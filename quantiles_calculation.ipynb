{
 "cells": [
  {
   "attachments": {},
   "cell_type": "markdown",
   "metadata": {},
   "source": [
    "### This notebook will try to apply the \"How to find Quartile\" using python and a real dataset as explained in [Calculate and Use Quartile in your Data analysis](https://medium.com/@misamuna/calculate-and-use-quartile-in-your-data-analysis-5cff9605f33f)"
   ]
  },
  {
   "cell_type": "code",
   "execution_count": 14,
   "metadata": {},
   "outputs": [],
   "source": [
    "import pandas as pd"
   ]
  },
  {
   "cell_type": "code",
   "execution_count": 15,
   "metadata": {},
   "outputs": [],
   "source": [
    "#read the data excel file\n",
    "df = pd.read_excel('index_serv_sec_ner_sample_dts.xlsx',sheet_name=\"index_per_vlg\")"
   ]
  },
  {
   "cell_type": "markdown",
   "metadata": {},
   "source": []
  },
  {
   "cell_type": "code",
   "execution_count": 16,
   "metadata": {},
   "outputs": [
    {
     "data": {
      "text/html": [
       "<div>\n",
       "<style scoped>\n",
       "    .dataframe tbody tr th:only-of-type {\n",
       "        vertical-align: middle;\n",
       "    }\n",
       "\n",
       "    .dataframe tbody tr th {\n",
       "        vertical-align: top;\n",
       "    }\n",
       "\n",
       "    .dataframe thead th {\n",
       "        text-align: right;\n",
       "    }\n",
       "</style>\n",
       "<table border=\"1\" class=\"dataframe\">\n",
       "  <thead>\n",
       "    <tr style=\"text-align: right;\">\n",
       "      <th></th>\n",
       "      <th>admin3</th>\n",
       "      <th>village</th>\n",
       "      <th>services_index</th>\n",
       "      <th>security_index</th>\n",
       "    </tr>\n",
       "  </thead>\n",
       "  <tbody>\n",
       "    <tr>\n",
       "      <th>0</th>\n",
       "      <td>Karma</td>\n",
       "      <td>Aoudi_kouara</td>\n",
       "      <td>56.29</td>\n",
       "      <td>71.11</td>\n",
       "    </tr>\n",
       "    <tr>\n",
       "      <th>1</th>\n",
       "      <td>Koure</td>\n",
       "      <td>Baboussaye</td>\n",
       "      <td>71.55</td>\n",
       "      <td>99.40</td>\n",
       "    </tr>\n",
       "    <tr>\n",
       "      <th>2</th>\n",
       "      <td>Bitinkodji</td>\n",
       "      <td>Badoulere</td>\n",
       "      <td>64.74</td>\n",
       "      <td>60.25</td>\n",
       "    </tr>\n",
       "    <tr>\n",
       "      <th>3</th>\n",
       "      <td>Kirtachi</td>\n",
       "      <td>Banizoumbou peulh</td>\n",
       "      <td>39.04</td>\n",
       "      <td>100.00</td>\n",
       "    </tr>\n",
       "    <tr>\n",
       "      <th>4</th>\n",
       "      <td>Youri</td>\n",
       "      <td>Batare</td>\n",
       "      <td>46.86</td>\n",
       "      <td>99.40</td>\n",
       "    </tr>\n",
       "  </tbody>\n",
       "</table>\n",
       "</div>"
      ],
      "text/plain": [
       "       admin3            village  services_index  security_index\n",
       "0       Karma       Aoudi_kouara           56.29           71.11\n",
       "1       Koure         Baboussaye           71.55           99.40\n",
       "2  Bitinkodji          Badoulere           64.74           60.25\n",
       "3    Kirtachi  Banizoumbou peulh           39.04          100.00\n",
       "4       Youri             Batare           46.86           99.40"
      ]
     },
     "execution_count": 16,
     "metadata": {},
     "output_type": "execute_result"
    }
   ],
   "source": [
    "df.head()"
   ]
  },
  {
   "cell_type": "code",
   "execution_count": 17,
   "metadata": {},
   "outputs": [],
   "source": [
    "# import Numpy\n",
    "import numpy as np"
   ]
  },
  {
   "attachments": {},
   "cell_type": "markdown",
   "metadata": {},
   "source": [
    "as explained in Part 1, Each interval contains 25% of the total observations. \n",
    "We will therefore apply this in the definition of our quartiles."
   ]
  },
  {
   "cell_type": "code",
   "execution_count": 18,
   "metadata": {},
   "outputs": [
    {
     "data": {
      "text/plain": [
       "array([ 23.69 ,  63.165,  91.06 ,  99.4  , 100.   ])"
      ]
     },
     "execution_count": 18,
     "metadata": {},
     "output_type": "execute_result"
    }
   ],
   "source": [
    "X = np.quantile(df[\"security_index\"],[0,0.25,0.5,0.75,1])\n",
    "X"
   ]
  },
  {
   "attachments": {},
   "cell_type": "markdown",
   "metadata": {},
   "source": [
    "### A short reminder\n",
    "* First Interval -> data between the minimum and Q1\n",
    "* Second Interval -> data between the lower quartile and the median. Where Q1 correspond to the Lower quartile\n",
    "* Third Interval -> data between the median and the upper quartile. Q3 correspond to the Upper quartile\n",
    "* Fourth Interval -> data between the upper quartile and the maximum value of our dataset."
   ]
  },
  {
   "cell_type": "code",
   "execution_count": 19,
   "metadata": {},
   "outputs": [
    {
     "data": {
      "text/plain": [
       "91.06"
      ]
     },
     "execution_count": 19,
     "metadata": {},
     "output_type": "execute_result"
    }
   ],
   "source": [
    "# define the median of all index in the dataset\n",
    "np.median(df[\"security_index\"])"
   ]
  },
  {
   "cell_type": "code",
   "execution_count": 20,
   "metadata": {},
   "outputs": [],
   "source": [
    "#Iterate the data frame and assign quartile values\n",
    "quartiles = []\n",
    "\n",
    "for index, row in df.iterrows():\n",
    "    if row[\"security_index\"] <= X[0]:\n",
    "        quartiles.append(1)\n",
    "    elif row[\"security_index\"] <= X[1]:\n",
    "        quartiles.append(2)\n",
    "    elif row[\"security_index\"] <= X[2]:\n",
    "        quartiles.append(3)\n",
    "    else:\n",
    "        quartiles.append(4)"
   ]
  },
  {
   "cell_type": "code",
   "execution_count": 21,
   "metadata": {},
   "outputs": [],
   "source": [
    "# export result to a dedicated file \n",
    "df[\"quartile_result\"] = quartiles\n",
    "df.to_excel('quartiles_result.xlsx',sheet_name=\"qtl_result\")"
   ]
  }
 ],
 "metadata": {
  "kernelspec": {
   "display_name": "base",
   "language": "python",
   "name": "python3"
  },
  "language_info": {
   "codemirror_mode": {
    "name": "ipython",
    "version": 3
   },
   "file_extension": ".py",
   "mimetype": "text/x-python",
   "name": "python",
   "nbconvert_exporter": "python",
   "pygments_lexer": "ipython3",
   "version": "3.9.12"
  },
  "orig_nbformat": 4,
  "vscode": {
   "interpreter": {
    "hash": "40d3a090f54c6569ab1632332b64b2c03c39dcf918b08424e98f38b5ae0af88f"
   }
  }
 },
 "nbformat": 4,
 "nbformat_minor": 2
}
